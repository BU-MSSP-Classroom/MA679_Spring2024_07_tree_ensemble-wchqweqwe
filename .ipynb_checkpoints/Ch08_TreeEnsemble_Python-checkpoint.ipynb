{
 "cells": [
  {
   "cell_type": "markdown",
   "id": "d44e3904",
   "metadata": {},
   "source": [
    "# Class Workbook {.tabset .tabset-fade .tabset-pills}"
   ]
  },
  {
   "cell_type": "markdown",
   "id": "a139ed8f",
   "metadata": {},
   "source": [
    "## In class activity"
   ]
  },
  {
   "cell_type": "code",
   "execution_count": null,
   "id": "ec6c3ae3",
   "metadata": {
    "kernel": "Python3",
    "tags": [
     "report_cell"
    ]
   },
   "outputs": [],
   "source": [
    "import numpy as np\n",
    "import pandas as pd\n",
    "#import math\n",
    "from matplotlib.pyplot import subplots\n",
    "#import statsmodels.api as sm\n",
    "from plotnine import *\n",
    "#import plotly.express as px\n",
    "#import statsmodels.formula.api as sm\n",
    "#import ISLP as islp"
   ]
  },
  {
   "cell_type": "code",
   "execution_count": null,
   "id": "35d1df29-e15e-4b77-b5ca-8fadf439b780",
   "metadata": {},
   "outputs": [],
   "source": []
  },
  {
   "cell_type": "markdown",
   "id": "a006f7cf",
   "metadata": {},
   "source": [
    "### Bank Credit Data\n",
    "\n",
    "Please take a look at the following credit scoring data set. This data was used to predict defaults on consumer loans. The data contains  1000 rows and 21 variables:"
   ]
  },
  {
   "cell_type": "code",
   "execution_count": 18,
   "id": "dc73a6c7",
   "metadata": {
    "kernel": "Python3",
    "tags": [
     "report_cell"
    ]
   },
   "outputs": [],
   "source": [
    "credit_data=pd.read_csv(\"credit_data.csv\")"
   ]
  },
  {
   "cell_type": "markdown",
   "id": "aeb90aeb",
   "metadata": {},
   "source": [
    "Here are the variables.\n",
    "\n",
    "- BAD: factor, GOOD/BAD for whether a customer has defaulted on a loan. This is the outcome or target in this dataset\n",
    "- Account_status: factor, status of existing checking account\n",
    "- Duration: numeric, loan duration in month\n",
    "- Credit_history: factor, previous credit history\n",
    "- Purpose: factor, loan purpose\n",
    "- Amount: numeric, credit amount\n",
    "- Savings: factor, savings account/bonds\n",
    "- Employment: factor, present employment since\n",
    "- Installment_rate: numeric, installment rate in percentage of disposable income\n",
    "- Guarantors: factor, other debtors / guarantors\n",
    "- Resident_since: factor, present residence since\n",
    "- Property: factor, property\n",
    "- Age: numeric, age in years\n",
    "- Other_plans: factor, other installment plans (bank ,none, stores )\n",
    "- Housing: factor, housing\n",
    "- Num_credits: numeric, Number of existing credits at this bank\n",
    "- Job: factor, job( management / self-employed / highly qualified employee / officer; skilled employee / official ; unemployed / unskilled - non-resident ; unskilled - resident )\n",
    "- People_maintenance: numeric, number of people being liable to provide maintenance for\n",
    "- Phone: factor, telephone (none ; yes, registered under the customers name )\n",
    "- Foreign: factor, foreign worker ( no ; yes )\n",
    "- Female: factor, female/male for gender\n",
    "\n",
    "Create a predictive model that predicts the outcome `BAD`."
   ]
  },
  {
   "cell_type": "code",
   "execution_count": 19,
   "id": "5abe777b",
   "metadata": {
    "kernel": "Python3",
    "tags": [
     "report_cell"
    ]
   },
   "outputs": [],
   "source": [
    "from sklearn.model_selection import train_test_split\n",
    "# split the data\n",
    "X_train, X_test, y_train, y_test = train_test_split(credit_data.loc[:,credit_data.columns != \"BAD\"], credit_data.loc[:,\"BAD\"], test_size=0.33, random_state=42)\n",
    "\n",
    "credit_data_train  = pd.concat([X_train, y_train], axis=1)\n",
    "credit_data_valid  = pd.concat([X_test, y_test], axis=1)\n"
   ]
  },
  {
   "cell_type": "markdown",
   "id": "c47e7826",
   "metadata": {},
   "source": [
    "Evaluate your model performance.  What criteria do you think will be appropriate."
   ]
  },
  {
   "cell_type": "code",
   "execution_count": null,
   "id": "4cc8f5cd",
   "metadata": {
    "kernel": "Python3",
    "tags": [
     "report_cell"
    ]
   },
   "outputs": [],
   "source": [
    "#\n",
    "#"
   ]
  },
  {
   "cell_type": "code",
   "execution_count": 29,
   "id": "710a40aa-31f0-4563-9157-b386cd726f2e",
   "metadata": {},
   "outputs": [],
   "source": [
    "def model_clean(data, target_name, test_size=0.2, random_state=42):\n",
    "\n",
    "    X = data.drop(target_name, axis=1)\n",
    "    y = data[target_name]\n",
    "\n",
    "    X_train, X_test, y_train, y_test = train_test_split(X, y, test_size=test_size, random_state=random_state)\n",
    "\n",
    "    numeric_features = X.select_dtypes(include=['int64', 'float64']).columns\n",
    "    categorical_features = X.select_dtypes(include=['object']).columns\n",
    "    \n",
    "    numeric_transformer = Pipeline(steps=[\n",
    "        ('imputer', SimpleImputer(strategy='mean')),\n",
    "        ('scaler', StandardScaler())])\n",
    "    \n",
    "    categorical_transformer = Pipeline(steps=[\n",
    "        ('imputer', SimpleImputer(strategy='most_frequent')),\n",
    "        ('onehot', OneHotEncoder(handle_unknown='ignore'))])\n",
    "    \n",
    "    preprocessor = ColumnTransformer(\n",
    "        transformers=[\n",
    "            ('num', numeric_transformer, numeric_features),\n",
    "            ('cat', categorical_transformer, categorical_features)])\n",
    "\n",
    "    X_train = preprocessor.fit_transform(X_train)\n",
    "    X_test = preprocessor.transform(X_test)\n",
    "    \n",
    "    return X_train, X_test, y_train, y_test"
   ]
  },
  {
   "cell_type": "markdown",
   "id": "7ea3b6cd",
   "metadata": {},
   "source": [
    "Comment of the result:\n",
    "\n",
    "~~~\n",
    "Please write your answer in full sentences.\n",
    "\n",
    "\n",
    "~~~"
   ]
  },
  {
   "cell_type": "markdown",
   "id": "a14d35ee",
   "metadata": {},
   "source": [
    "### Ames Housing data\n",
    "\n",
    "Please take a look at the Ames Housing data."
   ]
  },
  {
   "cell_type": "code",
   "execution_count": 23,
   "id": "9db1f2e8",
   "metadata": {
    "kernel": "Python3",
    "tags": [
     "report_cell"
    ]
   },
   "outputs": [],
   "source": [
    "ames_raw=pd.read_csv(\"ames_raw.csv\")"
   ]
  },
  {
   "cell_type": "markdown",
   "id": "ed00790e",
   "metadata": {},
   "source": [
    "Use data of `ames_raw` up to 2008 predict the housing price for the later years."
   ]
  },
  {
   "cell_type": "code",
   "execution_count": 24,
   "id": "47e92069",
   "metadata": {
    "Rmd_chunk_options": "echo=show_code",
    "kernel": "Python3",
    "tags": [
     "report_cell"
    ]
   },
   "outputs": [],
   "source": [
    "# Do feature engineering if needed.\n",
    "ames_raw_2009, ames_raw_2008= ames_raw.query('`Yr Sold`>=2008').copy(), ames_raw.query('`Yr Sold` <2008').copy()"
   ]
  },
  {
   "cell_type": "markdown",
   "id": "6a64eea5",
   "metadata": {},
   "source": [
    "Use the same loss function calculator."
   ]
  },
  {
   "cell_type": "code",
   "execution_count": 25,
   "id": "b50d822d",
   "metadata": {
    "Rmd_chunk_options": "echo=show_code",
    "kernel": "Python3",
    "tags": [
     "report_cell"
    ]
   },
   "outputs": [],
   "source": [
    "def calc_loss(prediction,actual):\n",
    "  difpred = actual-prediction\n",
    "  RMSE =pow(difpred.pow(2).mean(),1/2)\n",
    "  operation_loss=abs(sum(difpred[difpred<0]))+sum(0.1*actual[difpred>0])\n",
    "  return RMSE,operation_loss"
   ]
  },
  {
   "cell_type": "markdown",
   "id": "2bf99443",
   "metadata": {},
   "source": [
    "Apply CART and try to interpret the result that you get.  Be sure to fit the models on a training set and evaluate their performance on a test set.  Does it have a good prediction accuracy?"
   ]
  },
  {
   "cell_type": "code",
   "execution_count": 33,
   "id": "792042dd",
   "metadata": {
    "kernel": "Python3",
    "tags": [
     "report_cell"
    ]
   },
   "outputs": [
    {
     "data": {
      "text/plain": [
       "(36263.98477297185, 12619873.399999999)"
      ]
     },
     "execution_count": 33,
     "metadata": {},
     "output_type": "execute_result"
    }
   ],
   "source": [
    "import pandas as pd\n",
    "from sklearn.model_selection import train_test_split\n",
    "from sklearn.tree import DecisionTreeRegressor\n",
    "from sklearn.metrics import mean_squared_error\n",
    "from sklearn.preprocessing import LabelEncoder, StandardScaler\n",
    "from math import sqrt\n",
    "\n",
    "X_train, X_test, y_train, y_test =  model_clean(ames_raw, 'SalePrice')\n",
    "\n",
    "model = DecisionTreeRegressor(random_state=42)\n",
    "model.fit(X_train, y_train)\n",
    "\n",
    "# Predict and evaluate the model\n",
    "prediction = model.predict(X_test)\n",
    "\n",
    "calc_loss(prediction,y_test)"
   ]
  },
  {
   "cell_type": "markdown",
   "id": "e324fb1d",
   "metadata": {},
   "source": [
    "Comment of the result:\n",
    "\n",
    "~~~\n",
    "Please write your answer in full sentences.\n",
    "\n",
    "\n",
    "~~~\n",
    "\n",
    "Apply boosting, bagging, random forests, and BART to the Ames Housing data set. Be sure to fit the models on a training set and evaluate their performance on a test set. How accurate are the results compared to simple linear regression methods? Which of these approaches yields the best performance?"
   ]
  },
  {
   "cell_type": "code",
   "execution_count": null,
   "id": "c4c54622",
   "metadata": {
    "kernel": "Python3",
    "tags": [
     "report_cell"
    ]
   },
   "outputs": [],
   "source": [
    "#\n",
    "#"
   ]
  },
  {
   "cell_type": "markdown",
   "id": "8740594b",
   "metadata": {},
   "source": [
    "Comment of the result:\n",
    "\n",
    "~~~\n",
    "Please write your answer in full sentences.\n",
    "\n",
    "\n",
    "~~~"
   ]
  },
  {
   "cell_type": "markdown",
   "id": "1cccc280",
   "metadata": {},
   "source": [
    "## Problem Set"
   ]
  },
  {
   "cell_type": "markdown",
   "id": "1bbbb9e6",
   "metadata": {},
   "source": [
    "### Boston\n",
    "\n",
    "\n",
    "In Section 8.3.3, we applied random forests to the Boston data using max_features = 6 and using n_estimators = 100 and n_estimators = 500. Create a plot displaying the test error resulting from random forests on this data set for a more comprehensive range of values for max_features and n_estimators. You can model your plot after Figure 8.10. Describe the results obtained."
   ]
  },
  {
   "cell_type": "code",
   "execution_count": 5,
   "id": "46ebdbe8",
   "metadata": {
    "kernel": "Python3",
    "tags": [
     "report_cell"
    ]
   },
   "outputs": [],
   "source": [
    "from ISLP import load_data\n",
    "Boston = load_data(\"Boston\")"
   ]
  },
  {
   "cell_type": "code",
   "execution_count": 12,
   "id": "f4b66c1f-97d8-4fd6-9c6f-6a959bbc9696",
   "metadata": {},
   "outputs": [],
   "source": [
    "import pandas as pd\n",
    "from sklearn.model_selection import train_test_split\n",
    "from sklearn.compose import ColumnTransformer\n",
    "from sklearn.pipeline import Pipeline\n",
    "from sklearn.impute import SimpleImputer\n",
    "from sklearn.preprocessing import StandardScaler, OneHotEncoder\n",
    "from sklearn.ensemble import RandomForestRegressor\n",
    "from sklearn.metrics import mean_squared_error\n",
    "import numpy as np\n",
    "import matplotlib.pyplot as plt\n",
    "\n"
   ]
  },
  {
   "cell_type": "code",
   "execution_count": 16,
   "id": "f6ca11fd-a38d-45e8-8eca-e21467ea53a4",
   "metadata": {},
   "outputs": [],
   "source": [
    "X_train, X_test, y_train, y_test =  model_clean(Boston, \"medv\")\n",
    "\n",
    "max_features_range = [2, 4, 6, 8, 10]\n",
    "n_estimators_range = [100, 200, 500, 700, 1000]\n",
    "\n",
    "test_errors = {mf: [] for mf in max_features_range}\n",
    "\n",
    "for mf in max_features_range:\n",
    "    for ne in n_estimators_range:\n",
    "        rf = RandomForestRegressor(n_estimators=ne, max_features=mf, random_state=42)\n",
    "        rf.fit(X_train, y_train)\n",
    "        y_pred = rf.predict(X_test)\n",
    "        mse = mean_squared_error(y_test, y_pred)\n",
    "        test_errors[mf].append(mse)"
   ]
  },
  {
   "cell_type": "code",
   "execution_count": 15,
   "id": "e6bf9a1b-f614-48ed-8667-88d49860fed0",
   "metadata": {},
   "outputs": [
    {
     "data": {
      "text/plain": [
       "{2: [11.684974921568612,\n",
       "  10.935703855392148,\n",
       "  11.028484632156937,\n",
       "  11.015051878951652,\n",
       "  10.910842111013013],\n",
       " 4: [9.716899656862745,\n",
       "  9.720050999999996,\n",
       "  9.359312442745136,\n",
       "  9.197292988595459,\n",
       "  9.132934376078373],\n",
       " 6: [8.11401486274509,\n",
       "  7.955235085784316,\n",
       "  8.841433681568638,\n",
       "  8.596885865946378,\n",
       "  8.57976460490191],\n",
       " 8: [8.301629431372547,\n",
       "  7.9382491078431405,\n",
       "  8.51661549764704,\n",
       "  8.32497754981989,\n",
       "  8.363945839019555],\n",
       " 10: [7.747695068627452,\n",
       "  7.758410713235302,\n",
       "  8.12001240941173,\n",
       "  8.05567306042413,\n",
       "  8.122795035196022]}"
      ]
     },
     "execution_count": 15,
     "metadata": {},
     "output_type": "execute_result"
    }
   ],
   "source": [
    "test_errors"
   ]
  },
  {
   "cell_type": "code",
   "execution_count": null,
   "id": "f2faf314-515e-4727-90c9-89f0d145db7b",
   "metadata": {},
   "outputs": [],
   "source": [
    "#from the test errors we can see that we get lowest when feature is 10, and n is 200. "
   ]
  },
  {
   "cell_type": "markdown",
   "id": "2b9faaf0",
   "metadata": {},
   "source": [
    "###\n",
    "\n",
    "In the lab, a classification tree was applied to the Carseats data set after converting Sales into a qualitative response variable. Now we will seek to predict Sales using regression trees and related approaches, treating the response as a quantitative variable."
   ]
  },
  {
   "cell_type": "code",
   "execution_count": 2,
   "id": "4cad2376",
   "metadata": {
    "kernel": "Python3",
    "tags": [
     "report_cell"
    ]
   },
   "outputs": [],
   "source": [
    "Carseats = load_data(\"Carseats\")"
   ]
  },
  {
   "cell_type": "markdown",
   "id": "038f32c9",
   "metadata": {},
   "source": [
    "(a) Split the data set into a training set and a test set."
   ]
  },
  {
   "cell_type": "code",
   "execution_count": null,
   "id": "b6a0513c",
   "metadata": {
    "kernel": "Python3",
    "tags": [
     "report_cell"
    ]
   },
   "outputs": [],
   "source": [
    "X_train, X_test, y_train, y_test = model_clean(College, \"Outstate\")"
   ]
  },
  {
   "cell_type": "markdown",
   "id": "8be38c78",
   "metadata": {},
   "source": [
    "(b) Fit a regression tree to the training set. Plot the tree, and interpret the results. What test MSE do you obtain?"
   ]
  },
  {
   "cell_type": "code",
   "execution_count": null,
   "id": "53cf235e",
   "metadata": {
    "kernel": "Python3",
    "tags": [
     "report_cell"
    ]
   },
   "outputs": [],
   "source": []
  },
  {
   "cell_type": "markdown",
   "id": "0374a191",
   "metadata": {},
   "source": [
    "(c) Use cross-validation in order to determine the optimal level of tree complexity. Does pruning the tree improve the test MSE?"
   ]
  },
  {
   "cell_type": "code",
   "execution_count": null,
   "id": "dd2a267b",
   "metadata": {
    "kernel": "Python3",
    "tags": [
     "report_cell"
    ]
   },
   "outputs": [],
   "source": []
  },
  {
   "cell_type": "markdown",
   "id": "47a8eaa9",
   "metadata": {},
   "source": [
    "(d) Use the bagging approach in order to analyze this data. What\n",
    "test MSE do you obtain? Use the feature_importance_ values to\n",
    "determine which variables are most important."
   ]
  },
  {
   "cell_type": "code",
   "execution_count": null,
   "id": "1aa5fc4c",
   "metadata": {
    "kernel": "Python3",
    "tags": [
     "report_cell"
    ]
   },
   "outputs": [],
   "source": []
  },
  {
   "cell_type": "markdown",
   "id": "81449ad5",
   "metadata": {},
   "source": [
    "(e) Use random forests to analyze this data. What test MSE do you obtain? Use the feature_importance_ values to determine\n",
    "which variables are most important. Describe the effect of m, the number of variables considered at each split, on the error rate\n",
    "obtained."
   ]
  },
  {
   "cell_type": "code",
   "execution_count": null,
   "id": "e50147a8",
   "metadata": {
    "kernel": "Python3",
    "tags": [
     "report_cell"
    ]
   },
   "outputs": [],
   "source": []
  },
  {
   "cell_type": "markdown",
   "id": "077deaf4",
   "metadata": {},
   "source": [
    "(f) Now analyze the data using BART, and report your results."
   ]
  },
  {
   "cell_type": "code",
   "execution_count": null,
   "id": "886f4ccb",
   "metadata": {
    "kernel": "Python3",
    "tags": [
     "report_cell"
    ]
   },
   "outputs": [],
   "source": []
  },
  {
   "cell_type": "markdown",
   "id": "481487a9",
   "metadata": {},
   "source": [
    "### OJ\n",
    "\n",
    "This problem involves the OJ data set which is part of the ISLR2 package."
   ]
  },
  {
   "cell_type": "code",
   "execution_count": 34,
   "id": "41dbe1c7",
   "metadata": {
    "kernel": "Python3",
    "tags": [
     "report_cell"
    ]
   },
   "outputs": [],
   "source": [
    "OJ = load_data(\"OJ\")"
   ]
  },
  {
   "cell_type": "markdown",
   "id": "f3642bdd",
   "metadata": {},
   "source": [
    "(a) Create a training set containing a random sample of 800 observations, and a test set containing the remaining observations.\n",
    "\n",
    "Your code:"
   ]
  },
  {
   "cell_type": "code",
   "execution_count": 35,
   "id": "b724ac1d",
   "metadata": {
    "Rmd_chunk_options": "echo=TRUE",
    "kernel": "Python3",
    "tags": [
     "report_cell"
    ]
   },
   "outputs": [],
   "source": [
    "train_set, test_set = train_test_split(OJ, test_size=len(OJ)-800, random_state=42)"
   ]
  },
  {
   "cell_type": "code",
   "execution_count": 37,
   "id": "aa474b7a-d724-4f8c-a14a-ba65b0a83e9c",
   "metadata": {},
   "outputs": [
    {
     "data": {
      "text/html": [
       "<div>\n",
       "<style scoped>\n",
       "    .dataframe tbody tr th:only-of-type {\n",
       "        vertical-align: middle;\n",
       "    }\n",
       "\n",
       "    .dataframe tbody tr th {\n",
       "        vertical-align: top;\n",
       "    }\n",
       "\n",
       "    .dataframe thead th {\n",
       "        text-align: right;\n",
       "    }\n",
       "</style>\n",
       "<table border=\"1\" class=\"dataframe\">\n",
       "  <thead>\n",
       "    <tr style=\"text-align: right;\">\n",
       "      <th></th>\n",
       "      <th>Purchase</th>\n",
       "      <th>WeekofPurchase</th>\n",
       "      <th>StoreID</th>\n",
       "      <th>PriceCH</th>\n",
       "      <th>PriceMM</th>\n",
       "      <th>DiscCH</th>\n",
       "      <th>DiscMM</th>\n",
       "      <th>SpecialCH</th>\n",
       "      <th>SpecialMM</th>\n",
       "      <th>LoyalCH</th>\n",
       "      <th>SalePriceMM</th>\n",
       "      <th>SalePriceCH</th>\n",
       "      <th>PriceDiff</th>\n",
       "      <th>Store7</th>\n",
       "      <th>PctDiscMM</th>\n",
       "      <th>PctDiscCH</th>\n",
       "      <th>ListPriceDiff</th>\n",
       "      <th>STORE</th>\n",
       "    </tr>\n",
       "  </thead>\n",
       "  <tbody>\n",
       "    <tr>\n",
       "      <th>323</th>\n",
       "      <td>CH</td>\n",
       "      <td>271</td>\n",
       "      <td>3</td>\n",
       "      <td>1.99</td>\n",
       "      <td>2.09</td>\n",
       "      <td>0.10</td>\n",
       "      <td>0.40</td>\n",
       "      <td>1</td>\n",
       "      <td>0</td>\n",
       "      <td>0.400000</td>\n",
       "      <td>1.69</td>\n",
       "      <td>1.89</td>\n",
       "      <td>-0.20</td>\n",
       "      <td>No</td>\n",
       "      <td>0.191388</td>\n",
       "      <td>0.050251</td>\n",
       "      <td>0.10</td>\n",
       "      <td>3</td>\n",
       "    </tr>\n",
       "    <tr>\n",
       "      <th>261</th>\n",
       "      <td>CH</td>\n",
       "      <td>270</td>\n",
       "      <td>2</td>\n",
       "      <td>1.86</td>\n",
       "      <td>2.18</td>\n",
       "      <td>0.00</td>\n",
       "      <td>0.00</td>\n",
       "      <td>0</td>\n",
       "      <td>0</td>\n",
       "      <td>0.307200</td>\n",
       "      <td>2.18</td>\n",
       "      <td>1.86</td>\n",
       "      <td>0.32</td>\n",
       "      <td>No</td>\n",
       "      <td>0.000000</td>\n",
       "      <td>0.000000</td>\n",
       "      <td>0.32</td>\n",
       "      <td>2</td>\n",
       "    </tr>\n",
       "    <tr>\n",
       "      <th>974</th>\n",
       "      <td>MM</td>\n",
       "      <td>244</td>\n",
       "      <td>1</td>\n",
       "      <td>1.86</td>\n",
       "      <td>2.09</td>\n",
       "      <td>0.00</td>\n",
       "      <td>0.00</td>\n",
       "      <td>0</td>\n",
       "      <td>0</td>\n",
       "      <td>0.251966</td>\n",
       "      <td>2.09</td>\n",
       "      <td>1.86</td>\n",
       "      <td>0.23</td>\n",
       "      <td>No</td>\n",
       "      <td>0.000000</td>\n",
       "      <td>0.000000</td>\n",
       "      <td>0.23</td>\n",
       "      <td>1</td>\n",
       "    </tr>\n",
       "    <tr>\n",
       "      <th>1031</th>\n",
       "      <td>CH</td>\n",
       "      <td>269</td>\n",
       "      <td>4</td>\n",
       "      <td>1.99</td>\n",
       "      <td>2.09</td>\n",
       "      <td>0.10</td>\n",
       "      <td>0.00</td>\n",
       "      <td>0</td>\n",
       "      <td>0</td>\n",
       "      <td>0.924580</td>\n",
       "      <td>2.09</td>\n",
       "      <td>1.89</td>\n",
       "      <td>0.20</td>\n",
       "      <td>No</td>\n",
       "      <td>0.000000</td>\n",
       "      <td>0.050251</td>\n",
       "      <td>0.10</td>\n",
       "      <td>4</td>\n",
       "    </tr>\n",
       "    <tr>\n",
       "      <th>528</th>\n",
       "      <td>CH</td>\n",
       "      <td>250</td>\n",
       "      <td>2</td>\n",
       "      <td>1.89</td>\n",
       "      <td>2.09</td>\n",
       "      <td>0.00</td>\n",
       "      <td>0.00</td>\n",
       "      <td>0</td>\n",
       "      <td>0</td>\n",
       "      <td>0.744000</td>\n",
       "      <td>2.09</td>\n",
       "      <td>1.89</td>\n",
       "      <td>0.20</td>\n",
       "      <td>No</td>\n",
       "      <td>0.000000</td>\n",
       "      <td>0.000000</td>\n",
       "      <td>0.20</td>\n",
       "      <td>2</td>\n",
       "    </tr>\n",
       "    <tr>\n",
       "      <th>...</th>\n",
       "      <td>...</td>\n",
       "      <td>...</td>\n",
       "      <td>...</td>\n",
       "      <td>...</td>\n",
       "      <td>...</td>\n",
       "      <td>...</td>\n",
       "      <td>...</td>\n",
       "      <td>...</td>\n",
       "      <td>...</td>\n",
       "      <td>...</td>\n",
       "      <td>...</td>\n",
       "      <td>...</td>\n",
       "      <td>...</td>\n",
       "      <td>...</td>\n",
       "      <td>...</td>\n",
       "      <td>...</td>\n",
       "      <td>...</td>\n",
       "      <td>...</td>\n",
       "    </tr>\n",
       "    <tr>\n",
       "      <th>330</th>\n",
       "      <td>MM</td>\n",
       "      <td>262</td>\n",
       "      <td>1</td>\n",
       "      <td>1.76</td>\n",
       "      <td>1.99</td>\n",
       "      <td>0.00</td>\n",
       "      <td>0.40</td>\n",
       "      <td>0</td>\n",
       "      <td>1</td>\n",
       "      <td>0.500000</td>\n",
       "      <td>1.59</td>\n",
       "      <td>1.76</td>\n",
       "      <td>-0.17</td>\n",
       "      <td>No</td>\n",
       "      <td>0.201005</td>\n",
       "      <td>0.000000</td>\n",
       "      <td>0.23</td>\n",
       "      <td>1</td>\n",
       "    </tr>\n",
       "    <tr>\n",
       "      <th>466</th>\n",
       "      <td>CH</td>\n",
       "      <td>269</td>\n",
       "      <td>7</td>\n",
       "      <td>1.86</td>\n",
       "      <td>2.13</td>\n",
       "      <td>0.27</td>\n",
       "      <td>0.00</td>\n",
       "      <td>1</td>\n",
       "      <td>0</td>\n",
       "      <td>0.829606</td>\n",
       "      <td>2.13</td>\n",
       "      <td>1.59</td>\n",
       "      <td>0.54</td>\n",
       "      <td>Yes</td>\n",
       "      <td>0.000000</td>\n",
       "      <td>0.145161</td>\n",
       "      <td>0.27</td>\n",
       "      <td>0</td>\n",
       "    </tr>\n",
       "    <tr>\n",
       "      <th>121</th>\n",
       "      <td>CH</td>\n",
       "      <td>261</td>\n",
       "      <td>1</td>\n",
       "      <td>1.76</td>\n",
       "      <td>1.99</td>\n",
       "      <td>0.00</td>\n",
       "      <td>0.00</td>\n",
       "      <td>0</td>\n",
       "      <td>0</td>\n",
       "      <td>0.967444</td>\n",
       "      <td>1.99</td>\n",
       "      <td>1.76</td>\n",
       "      <td>0.23</td>\n",
       "      <td>No</td>\n",
       "      <td>0.000000</td>\n",
       "      <td>0.000000</td>\n",
       "      <td>0.23</td>\n",
       "      <td>1</td>\n",
       "    </tr>\n",
       "    <tr>\n",
       "      <th>1044</th>\n",
       "      <td>CH</td>\n",
       "      <td>241</td>\n",
       "      <td>1</td>\n",
       "      <td>1.86</td>\n",
       "      <td>1.99</td>\n",
       "      <td>0.00</td>\n",
       "      <td>0.30</td>\n",
       "      <td>0</td>\n",
       "      <td>1</td>\n",
       "      <td>0.777178</td>\n",
       "      <td>1.69</td>\n",
       "      <td>1.86</td>\n",
       "      <td>-0.17</td>\n",
       "      <td>No</td>\n",
       "      <td>0.150754</td>\n",
       "      <td>0.000000</td>\n",
       "      <td>0.13</td>\n",
       "      <td>1</td>\n",
       "    </tr>\n",
       "    <tr>\n",
       "      <th>860</th>\n",
       "      <td>CH</td>\n",
       "      <td>274</td>\n",
       "      <td>7</td>\n",
       "      <td>1.86</td>\n",
       "      <td>2.13</td>\n",
       "      <td>0.47</td>\n",
       "      <td>0.54</td>\n",
       "      <td>1</td>\n",
       "      <td>0</td>\n",
       "      <td>0.978010</td>\n",
       "      <td>1.59</td>\n",
       "      <td>1.39</td>\n",
       "      <td>0.20</td>\n",
       "      <td>Yes</td>\n",
       "      <td>0.253521</td>\n",
       "      <td>0.252688</td>\n",
       "      <td>0.27</td>\n",
       "      <td>0</td>\n",
       "    </tr>\n",
       "  </tbody>\n",
       "</table>\n",
       "<p>800 rows × 18 columns</p>\n",
       "</div>"
      ],
      "text/plain": [
       "     Purchase  WeekofPurchase  StoreID  PriceCH  PriceMM  DiscCH  DiscMM  \\\n",
       "323        CH             271        3     1.99     2.09    0.10    0.40   \n",
       "261        CH             270        2     1.86     2.18    0.00    0.00   \n",
       "974        MM             244        1     1.86     2.09    0.00    0.00   \n",
       "1031       CH             269        4     1.99     2.09    0.10    0.00   \n",
       "528        CH             250        2     1.89     2.09    0.00    0.00   \n",
       "...       ...             ...      ...      ...      ...     ...     ...   \n",
       "330        MM             262        1     1.76     1.99    0.00    0.40   \n",
       "466        CH             269        7     1.86     2.13    0.27    0.00   \n",
       "121        CH             261        1     1.76     1.99    0.00    0.00   \n",
       "1044       CH             241        1     1.86     1.99    0.00    0.30   \n",
       "860        CH             274        7     1.86     2.13    0.47    0.54   \n",
       "\n",
       "      SpecialCH  SpecialMM   LoyalCH  SalePriceMM  SalePriceCH  PriceDiff  \\\n",
       "323           1          0  0.400000         1.69         1.89      -0.20   \n",
       "261           0          0  0.307200         2.18         1.86       0.32   \n",
       "974           0          0  0.251966         2.09         1.86       0.23   \n",
       "1031          0          0  0.924580         2.09         1.89       0.20   \n",
       "528           0          0  0.744000         2.09         1.89       0.20   \n",
       "...         ...        ...       ...          ...          ...        ...   \n",
       "330           0          1  0.500000         1.59         1.76      -0.17   \n",
       "466           1          0  0.829606         2.13         1.59       0.54   \n",
       "121           0          0  0.967444         1.99         1.76       0.23   \n",
       "1044          0          1  0.777178         1.69         1.86      -0.17   \n",
       "860           1          0  0.978010         1.59         1.39       0.20   \n",
       "\n",
       "     Store7  PctDiscMM  PctDiscCH  ListPriceDiff  STORE  \n",
       "323      No   0.191388   0.050251           0.10      3  \n",
       "261      No   0.000000   0.000000           0.32      2  \n",
       "974      No   0.000000   0.000000           0.23      1  \n",
       "1031     No   0.000000   0.050251           0.10      4  \n",
       "528      No   0.000000   0.000000           0.20      2  \n",
       "...     ...        ...        ...            ...    ...  \n",
       "330      No   0.201005   0.000000           0.23      1  \n",
       "466     Yes   0.000000   0.145161           0.27      0  \n",
       "121      No   0.000000   0.000000           0.23      1  \n",
       "1044     No   0.150754   0.000000           0.13      1  \n",
       "860     Yes   0.253521   0.252688           0.27      0  \n",
       "\n",
       "[800 rows x 18 columns]"
      ]
     },
     "execution_count": 37,
     "metadata": {},
     "output_type": "execute_result"
    }
   ],
   "source": [
    "train_set"
   ]
  },
  {
   "cell_type": "markdown",
   "id": "d7303a57",
   "metadata": {},
   "source": [
    "Your answer:\n",
    "\n",
    "~~~\n",
    "Please write your answer in full sentences.\n",
    "\n",
    "\n",
    "~~~\n",
    "\n",
    "(b) Fit a tree to the training data, with Purchase as the response\n",
    "and the other variables as predictors. What is the training error\n",
    "rate?\n",
    "\n",
    "Your code:"
   ]
  },
  {
   "cell_type": "code",
   "execution_count": 38,
   "id": "3b4ea6cb",
   "metadata": {
    "Rmd_chunk_options": "echo=TRUE",
    "kernel": "Python3",
    "tags": [
     "report_cell"
    ]
   },
   "outputs": [],
   "source": [
    "from sklearn.tree import DecisionTreeClassifier\n",
    "\n",
    "model = DecisionTreeClassifier(random_state=42)\n",
    "\n",
    "X_train = train_set.drop('Purchase', axis=1)\n",
    "X_train = X_train.drop('Store7', axis=1)\n",
    "y_train = train_set['Purchase']\n",
    "\n",
    "model.fit(X_train, y_train)\n",
    "\n",
    "training_error_rate = 1 - model.score(X_train, y_train)\n"
   ]
  },
  {
   "cell_type": "markdown",
   "id": "30f801b0",
   "metadata": {},
   "source": [
    "Your answer:\n",
    "\n",
    "~~~\n",
    "Please write your answer in full sentences.\n",
    "\n",
    "\n",
    "~~~\n",
    "\n",
    "(c) Create a plot of the tree, and interpret the results. How many terminal nodes does the tree have?\n",
    "Your code:"
   ]
  },
  {
   "cell_type": "code",
   "execution_count": 40,
   "id": "b8b23b38",
   "metadata": {
    "Rmd_chunk_options": "echo=TRUE",
    "kernel": "Python3",
    "tags": [
     "report_cell"
    ]
   },
   "outputs": [
    {
     "data": {
      "image/png": "[encoded data removed]",
      "text/plain": [
       "<Figure size 2000x1000 with 1 Axes>"
      ]
     },
     "metadata": {},
     "output_type": "display_data"
    }
   ],
   "source": [
    "from sklearn.tree import plot_tree\n",
    "import matplotlib.pyplot as plt\n",
    "plt.figure(figsize=(20,10))\n",
    "plot_tree(model, filled=True, feature_names=X_train.columns, class_names=['CH', 'MM'])\n",
    "plt.show()"
   ]
  },
  {
   "cell_type": "markdown",
   "id": "26ca7eb5",
   "metadata": {},
   "source": [
    "Your answer:\n",
    "\n",
    "~~~\n",
    "Please write your answer in full sentences.\n",
    "\n",
    "\n",
    "~~~\n",
    "\n",
    "(d) Use the export_tree() function to produce a text summary of\n",
    "the fitted tree. Pick one of the terminal nodes, and interpret the\n",
    "information displayed."
   ]
  },
  {
   "cell_type": "code",
   "execution_count": 41,
   "id": "2f80b15c",
   "metadata": {
    "kernel": "Python3",
    "tags": [
     "report_cell"
    ]
   },
   "outputs": [
    {
     "name": "stdout",
     "output_type": "stream",
     "text": [
      "|--- LoyalCH <= 0.50\n",
      "|   |--- LoyalCH <= 0.28\n",
      "|   |   |--- LoyalCH <= 0.06\n",
      "|   |   |   |--- WeekofPurchase <= 268.50\n",
      "|   |   |   |   |--- class: MM\n",
      "|   |   |   |--- WeekofPurchase >  268.50\n",
      "|   |   |   |   |--- SalePriceMM <= 2.15\n",
      "|   |   |   |   |   |--- class: MM\n",
      "|   |   |   |   |--- SalePriceMM >  2.15\n",
      "|   |   |   |   |   |--- class: CH\n",
      "|   |   |--- LoyalCH >  0.06\n",
      "|   |   |   |--- LoyalCH <= 0.21\n",
      "|   |   |   |   |--- WeekofPurchase <= 273.00\n",
      "|   |   |   |   |   |--- WeekofPurchase <= 261.00\n",
      "|   |   |   |   |   |   |--- PriceDiff <= -0.13\n",
      "|   |   |   |   |   |   |   |--- PriceCH <= 1.81\n",
      "|   |   |   |   |   |   |   |   |--- WeekofPurchase <= 236.50\n",
      "|   |   |   |   |   |   |   |   |   |--- WeekofPurchase <= 234.00\n",
      "|   |   |   |   |   |   |   |   |   |   |--- LoyalCH <= 0.16\n",
      "|   |   |   |   |   |   |   |   |   |   |   |--- class: MM\n",
      "|   |   |   |   |   |   |   |   |   |   |--- LoyalCH >  0.16\n",
      "|   |   |   |   |   |   |   |   |   |   |   |--- truncated branch of depth 2\n",
      "|   |   |   |   |   |   |   |   |   |--- WeekofPurchase >  234.00\n",
      "|   |   |   |   |   |   |   |   |   |   |--- class: CH\n",
      "|   |   |   |   |   |   |   |   |--- WeekofPurchase >  236.50\n",
      "|   |   |   |   |   |   |   |   |   |--- class: MM\n",
      "|   |   |   |   |   |   |   |--- PriceCH >  1.81\n",
      "|   |   |   |   |   |   |   |   |--- class: CH\n",
      "|   |   |   |   |   |   |--- PriceDiff >  -0.13\n",
      "|   |   |   |   |   |   |   |--- LoyalCH <= 0.06\n",
      "|   |   |   |   |   |   |   |   |--- class: CH\n",
      "|   |   |   |   |   |   |   |--- LoyalCH >  0.06\n",
      "|   |   |   |   |   |   |   |   |--- WeekofPurchase <= 228.00\n",
      "|   |   |   |   |   |   |   |   |   |--- class: CH\n",
      "|   |   |   |   |   |   |   |   |--- WeekofPurchase >  228.00\n",
      "|   |   |   |   |   |   |   |   |   |--- SalePriceMM <= 2.26\n",
      "|   |   |   |   |   |   |   |   |   |   |--- WeekofPurchase <= 237.50\n",
      "|   |   |   |   |   |   |   |   |   |   |   |--- class: MM\n",
      "|   |   |   |   |   |   |   |   |   |   |--- WeekofPurchase >  237.50\n",
      "|   |   |   |   |   |   |   |   |   |   |   |--- truncated branch of depth 7\n",
      "|   |   |   |   |   |   |   |   |   |--- SalePriceMM >  2.26\n",
      "|   |   |   |   |   |   |   |   |   |   |--- class: CH\n",
      "|   |   |   |   |   |--- WeekofPurchase >  261.00\n",
      "|   |   |   |   |   |   |--- StoreID <= 1.50\n",
      "|   |   |   |   |   |   |   |--- class: MM\n",
      "|   |   |   |   |   |   |--- StoreID >  1.50\n",
      "|   |   |   |   |   |   |   |--- class: CH\n",
      "|   |   |   |   |--- WeekofPurchase >  273.00\n",
      "|   |   |   |   |   |--- class: MM\n",
      "|   |   |   |--- LoyalCH >  0.21\n",
      "|   |   |   |   |--- StoreID <= 1.50\n",
      "|   |   |   |   |   |--- SalePriceCH <= 1.78\n",
      "|   |   |   |   |   |   |--- class: CH\n",
      "|   |   |   |   |   |--- SalePriceCH >  1.78\n",
      "|   |   |   |   |   |   |--- class: MM\n",
      "|   |   |   |   |--- StoreID >  1.50\n",
      "|   |   |   |   |   |--- WeekofPurchase <= 229.50\n",
      "|   |   |   |   |   |   |--- STORE <= 1.00\n",
      "|   |   |   |   |   |   |   |--- class: CH\n",
      "|   |   |   |   |   |   |--- STORE >  1.00\n",
      "|   |   |   |   |   |   |   |--- class: MM\n",
      "|   |   |   |   |   |--- WeekofPurchase >  229.50\n",
      "|   |   |   |   |   |   |--- LoyalCH <= 0.26\n",
      "|   |   |   |   |   |   |   |--- class: MM\n",
      "|   |   |   |   |   |   |--- LoyalCH >  0.26\n",
      "|   |   |   |   |   |   |   |--- LoyalCH <= 0.27\n",
      "|   |   |   |   |   |   |   |   |--- class: CH\n",
      "|   |   |   |   |   |   |   |--- LoyalCH >  0.27\n",
      "|   |   |   |   |   |   |   |   |--- class: MM\n",
      "|   |--- LoyalCH >  0.28\n",
      "|   |   |--- PriceDiff <= 0.05\n",
      "|   |   |   |--- SpecialCH <= 0.50\n",
      "|   |   |   |   |--- SalePriceMM <= 1.74\n",
      "|   |   |   |   |   |--- LoyalCH <= 0.28\n",
      "|   |   |   |   |   |   |--- class: CH\n",
      "|   |   |   |   |   |--- LoyalCH >  0.28\n",
      "|   |   |   |   |   |   |--- StoreID <= 3.50\n",
      "|   |   |   |   |   |   |   |--- ListPriceDiff <= 0.23\n",
      "|   |   |   |   |   |   |   |   |--- class: MM\n",
      "|   |   |   |   |   |   |   |--- ListPriceDiff >  0.23\n",
      "|   |   |   |   |   |   |   |   |--- LoyalCH <= 0.47\n",
      "|   |   |   |   |   |   |   |   |   |--- class: MM\n",
      "|   |   |   |   |   |   |   |   |--- LoyalCH >  0.47\n",
      "|   |   |   |   |   |   |   |   |   |--- STORE <= 1.50\n",
      "|   |   |   |   |   |   |   |   |   |   |--- class: MM\n",
      "|   |   |   |   |   |   |   |   |   |--- STORE >  1.50\n",
      "|   |   |   |   |   |   |   |   |   |   |--- class: CH\n",
      "|   |   |   |   |   |   |--- StoreID >  3.50\n",
      "|   |   |   |   |   |   |   |--- WeekofPurchase <= 232.00\n",
      "|   |   |   |   |   |   |   |   |--- class: CH\n",
      "|   |   |   |   |   |   |   |--- WeekofPurchase >  232.00\n",
      "|   |   |   |   |   |   |   |   |--- WeekofPurchase <= 276.50\n",
      "|   |   |   |   |   |   |   |   |   |--- class: MM\n",
      "|   |   |   |   |   |   |   |   |--- WeekofPurchase >  276.50\n",
      "|   |   |   |   |   |   |   |   |   |--- class: CH\n",
      "|   |   |   |   |--- SalePriceMM >  1.74\n",
      "|   |   |   |   |   |--- StoreID <= 2.50\n",
      "|   |   |   |   |   |   |--- class: CH\n",
      "|   |   |   |   |   |--- StoreID >  2.50\n",
      "|   |   |   |   |   |   |--- WeekofPurchase <= 229.50\n",
      "|   |   |   |   |   |   |   |--- StoreID <= 3.50\n",
      "|   |   |   |   |   |   |   |   |--- LoyalCH <= 0.44\n",
      "|   |   |   |   |   |   |   |   |   |--- class: CH\n",
      "|   |   |   |   |   |   |   |   |--- LoyalCH >  0.44\n",
      "|   |   |   |   |   |   |   |   |   |--- class: MM\n",
      "|   |   |   |   |   |   |   |--- StoreID >  3.50\n",
      "|   |   |   |   |   |   |   |   |--- LoyalCH <= 0.44\n",
      "|   |   |   |   |   |   |   |   |   |--- class: MM\n",
      "|   |   |   |   |   |   |   |   |--- LoyalCH >  0.44\n",
      "|   |   |   |   |   |   |   |   |   |--- LoyalCH <= 0.49\n",
      "|   |   |   |   |   |   |   |   |   |   |--- class: CH\n",
      "|   |   |   |   |   |   |   |   |   |--- LoyalCH >  0.49\n",
      "|   |   |   |   |   |   |   |   |   |   |--- class: CH\n",
      "|   |   |   |   |   |   |--- WeekofPurchase >  229.50\n",
      "|   |   |   |   |   |   |   |--- class: MM\n",
      "|   |   |   |--- SpecialCH >  0.50\n",
      "|   |   |   |   |--- LoyalCH <= 0.37\n",
      "|   |   |   |   |   |--- class: MM\n",
      "|   |   |   |   |--- LoyalCH >  0.37\n",
      "|   |   |   |   |   |--- LoyalCH <= 0.47\n",
      "|   |   |   |   |   |   |--- StoreID <= 5.50\n",
      "|   |   |   |   |   |   |   |--- class: CH\n",
      "|   |   |   |   |   |   |--- StoreID >  5.50\n",
      "|   |   |   |   |   |   |   |--- LoyalCH <= 0.39\n",
      "|   |   |   |   |   |   |   |   |--- class: CH\n",
      "|   |   |   |   |   |   |   |--- LoyalCH >  0.39\n",
      "|   |   |   |   |   |   |   |   |--- class: MM\n",
      "|   |   |   |   |   |--- LoyalCH >  0.47\n",
      "|   |   |   |   |   |   |--- SalePriceMM <= 1.64\n",
      "|   |   |   |   |   |   |   |--- WeekofPurchase <= 233.50\n",
      "|   |   |   |   |   |   |   |   |--- class: CH\n",
      "|   |   |   |   |   |   |   |--- WeekofPurchase >  233.50\n",
      "|   |   |   |   |   |   |   |   |--- class: MM\n",
      "|   |   |   |   |   |   |--- SalePriceMM >  1.64\n",
      "|   |   |   |   |   |   |   |--- class: MM\n",
      "|   |   |--- PriceDiff >  0.05\n",
      "|   |   |   |--- ListPriceDiff <= 0.26\n",
      "|   |   |   |   |--- ListPriceDiff <= 0.12\n",
      "|   |   |   |   |   |--- class: CH\n",
      "|   |   |   |   |--- ListPriceDiff >  0.12\n",
      "|   |   |   |   |   |--- LoyalCH <= 0.45\n",
      "|   |   |   |   |   |   |--- ListPriceDiff <= 0.22\n",
      "|   |   |   |   |   |   |   |--- PriceCH <= 1.94\n",
      "|   |   |   |   |   |   |   |   |--- class: CH\n",
      "|   |   |   |   |   |   |   |--- PriceCH >  1.94\n",
      "|   |   |   |   |   |   |   |   |--- StoreID <= 4.50\n",
      "|   |   |   |   |   |   |   |   |   |--- class: MM\n",
      "|   |   |   |   |   |   |   |   |--- StoreID >  4.50\n",
      "|   |   |   |   |   |   |   |   |   |--- LoyalCH <= 0.39\n",
      "|   |   |   |   |   |   |   |   |   |   |--- class: CH\n",
      "|   |   |   |   |   |   |   |   |   |--- LoyalCH >  0.39\n",
      "|   |   |   |   |   |   |   |   |   |   |--- class: MM\n",
      "|   |   |   |   |   |   |--- ListPriceDiff >  0.22\n",
      "|   |   |   |   |   |   |   |--- SalePriceMM <= 2.04\n",
      "|   |   |   |   |   |   |   |   |--- class: MM\n",
      "|   |   |   |   |   |   |   |--- SalePriceMM >  2.04\n",
      "|   |   |   |   |   |   |   |   |--- LoyalCH <= 0.33\n",
      "|   |   |   |   |   |   |   |   |   |--- class: MM\n",
      "|   |   |   |   |   |   |   |   |--- LoyalCH >  0.33\n",
      "|   |   |   |   |   |   |   |   |   |--- WeekofPurchase <= 243.00\n",
      "|   |   |   |   |   |   |   |   |   |   |--- class: CH\n",
      "|   |   |   |   |   |   |   |   |   |--- WeekofPurchase >  243.00\n",
      "|   |   |   |   |   |   |   |   |   |   |--- LoyalCH <= 0.37\n",
      "|   |   |   |   |   |   |   |   |   |   |   |--- class: CH\n",
      "|   |   |   |   |   |   |   |   |   |   |--- LoyalCH >  0.37\n",
      "|   |   |   |   |   |   |   |   |   |   |   |--- class: MM\n",
      "|   |   |   |   |   |--- LoyalCH >  0.45\n",
      "|   |   |   |   |   |   |--- PriceCH <= 1.81\n",
      "|   |   |   |   |   |   |   |--- class: CH\n",
      "|   |   |   |   |   |   |--- PriceCH >  1.81\n",
      "|   |   |   |   |   |   |   |--- PriceCH <= 1.94\n",
      "|   |   |   |   |   |   |   |   |--- StoreID <= 4.50\n",
      "|   |   |   |   |   |   |   |   |   |--- class: MM\n",
      "|   |   |   |   |   |   |   |   |--- StoreID >  4.50\n",
      "|   |   |   |   |   |   |   |   |   |--- DiscCH <= 0.05\n",
      "|   |   |   |   |   |   |   |   |   |   |--- class: CH\n",
      "|   |   |   |   |   |   |   |   |   |--- DiscCH >  0.05\n",
      "|   |   |   |   |   |   |   |   |   |   |--- class: MM\n",
      "|   |   |   |   |   |   |   |--- PriceCH >  1.94\n",
      "|   |   |   |   |   |   |   |   |--- LoyalCH <= 0.49\n",
      "|   |   |   |   |   |   |   |   |   |--- class: CH\n",
      "|   |   |   |   |   |   |   |   |--- LoyalCH >  0.49\n",
      "|   |   |   |   |   |   |   |   |   |--- StoreID <= 2.50\n",
      "|   |   |   |   |   |   |   |   |   |   |--- class: CH\n",
      "|   |   |   |   |   |   |   |   |   |--- StoreID >  2.50\n",
      "|   |   |   |   |   |   |   |   |   |   |--- WeekofPurchase <= 247.00\n",
      "|   |   |   |   |   |   |   |   |   |   |   |--- truncated branch of depth 2\n",
      "|   |   |   |   |   |   |   |   |   |   |--- WeekofPurchase >  247.00\n",
      "|   |   |   |   |   |   |   |   |   |   |   |--- class: MM\n",
      "|   |   |   |--- ListPriceDiff >  0.26\n",
      "|   |   |   |   |--- LoyalCH <= 0.46\n",
      "|   |   |   |   |   |--- LoyalCH <= 0.41\n",
      "|   |   |   |   |   |   |--- StoreID <= 3.50\n",
      "|   |   |   |   |   |   |   |--- LoyalCH <= 0.31\n",
      "|   |   |   |   |   |   |   |   |--- class: CH\n",
      "|   |   |   |   |   |   |   |--- LoyalCH >  0.31\n",
      "|   |   |   |   |   |   |   |   |--- ListPriceDiff <= 0.33\n",
      "|   |   |   |   |   |   |   |   |   |--- LoyalCH <= 0.36\n",
      "|   |   |   |   |   |   |   |   |   |   |--- class: MM\n",
      "|   |   |   |   |   |   |   |   |   |--- LoyalCH >  0.36\n",
      "|   |   |   |   |   |   |   |   |   |   |--- LoyalCH <= 0.40\n",
      "|   |   |   |   |   |   |   |   |   |   |   |--- class: CH\n",
      "|   |   |   |   |   |   |   |   |   |   |--- LoyalCH >  0.40\n",
      "|   |   |   |   |   |   |   |   |   |   |   |--- truncated branch of depth 3\n",
      "|   |   |   |   |   |   |   |   |--- ListPriceDiff >  0.33\n",
      "|   |   |   |   |   |   |   |   |   |--- LoyalCH <= 0.38\n",
      "|   |   |   |   |   |   |   |   |   |   |--- class: CH\n",
      "|   |   |   |   |   |   |   |   |   |--- LoyalCH >  0.38\n",
      "|   |   |   |   |   |   |   |   |   |   |--- class: MM\n",
      "|   |   |   |   |   |   |--- StoreID >  3.50\n",
      "|   |   |   |   |   |   |   |--- WeekofPurchase <= 258.50\n",
      "|   |   |   |   |   |   |   |   |--- WeekofPurchase <= 257.00\n",
      "|   |   |   |   |   |   |   |   |   |--- class: CH\n",
      "|   |   |   |   |   |   |   |   |--- WeekofPurchase >  257.00\n",
      "|   |   |   |   |   |   |   |   |   |--- LoyalCH <= 0.35\n",
      "|   |   |   |   |   |   |   |   |   |   |--- class: CH\n",
      "|   |   |   |   |   |   |   |   |   |--- LoyalCH >  0.35\n",
      "|   |   |   |   |   |   |   |   |   |   |--- class: MM\n",
      "|   |   |   |   |   |   |   |--- WeekofPurchase >  258.50\n",
      "|   |   |   |   |   |   |   |   |--- class: CH\n",
      "|   |   |   |   |   |--- LoyalCH >  0.41\n",
      "|   |   |   |   |   |   |--- StoreID <= 1.50\n",
      "|   |   |   |   |   |   |   |--- LoyalCH <= 0.46\n",
      "|   |   |   |   |   |   |   |   |--- class: CH\n",
      "|   |   |   |   |   |   |   |--- LoyalCH >  0.46\n",
      "|   |   |   |   |   |   |   |   |--- class: MM\n",
      "|   |   |   |   |   |   |--- StoreID >  1.50\n",
      "|   |   |   |   |   |   |   |--- LoyalCH <= 0.45\n",
      "|   |   |   |   |   |   |   |   |--- class: MM\n",
      "|   |   |   |   |   |   |   |--- LoyalCH >  0.45\n",
      "|   |   |   |   |   |   |   |   |--- STORE <= 2.50\n",
      "|   |   |   |   |   |   |   |   |   |--- class: CH\n",
      "|   |   |   |   |   |   |   |   |--- STORE >  2.50\n",
      "|   |   |   |   |   |   |   |   |   |--- class: MM\n",
      "|   |   |   |   |--- LoyalCH >  0.46\n",
      "|   |   |   |   |   |--- PriceMM <= 2.04\n",
      "|   |   |   |   |   |   |--- class: MM\n",
      "|   |   |   |   |   |--- PriceMM >  2.04\n",
      "|   |   |   |   |   |   |--- ListPriceDiff <= 0.39\n",
      "|   |   |   |   |   |   |   |--- LoyalCH <= 0.48\n",
      "|   |   |   |   |   |   |   |   |--- LoyalCH <= 0.48\n",
      "|   |   |   |   |   |   |   |   |   |--- class: CH\n",
      "|   |   |   |   |   |   |   |   |--- LoyalCH >  0.48\n",
      "|   |   |   |   |   |   |   |   |   |--- STORE <= 1.50\n",
      "|   |   |   |   |   |   |   |   |   |   |--- class: CH\n",
      "|   |   |   |   |   |   |   |   |   |--- STORE >  1.50\n",
      "|   |   |   |   |   |   |   |   |   |   |--- class: MM\n",
      "|   |   |   |   |   |   |   |--- LoyalCH >  0.48\n",
      "|   |   |   |   |   |   |   |   |--- class: CH\n",
      "|   |   |   |   |   |   |--- ListPriceDiff >  0.39\n",
      "|   |   |   |   |   |   |   |--- class: MM\n",
      "|--- LoyalCH >  0.50\n",
      "|   |--- PriceDiff <= -0.39\n",
      "|   |   |--- LoyalCH <= 0.76\n",
      "|   |   |   |--- StoreID <= 1.50\n",
      "|   |   |   |   |--- LoyalCH <= 0.63\n",
      "|   |   |   |   |   |--- class: MM\n",
      "|   |   |   |   |--- LoyalCH >  0.63\n",
      "|   |   |   |   |   |--- LoyalCH <= 0.71\n",
      "|   |   |   |   |   |   |--- class: CH\n",
      "|   |   |   |   |   |--- LoyalCH >  0.71\n",
      "|   |   |   |   |   |   |--- class: MM\n",
      "|   |   |   |--- StoreID >  1.50\n",
      "|   |   |   |   |--- class: MM\n",
      "|   |   |--- LoyalCH >  0.76\n",
      "|   |   |   |--- LoyalCH <= 0.99\n",
      "|   |   |   |   |--- class: CH\n",
      "|   |   |   |--- LoyalCH >  0.99\n",
      "|   |   |   |   |--- LoyalCH <= 1.00\n",
      "|   |   |   |   |   |--- class: MM\n",
      "|   |   |   |   |--- LoyalCH >  1.00\n",
      "|   |   |   |   |   |--- class: CH\n",
      "|   |--- PriceDiff >  -0.39\n",
      "|   |   |--- PriceMM <= 1.74\n",
      "|   |   |   |--- LoyalCH <= 0.71\n",
      "|   |   |   |   |--- class: MM\n",
      "|   |   |   |--- LoyalCH >  0.71\n",
      "|   |   |   |   |--- LoyalCH <= 0.77\n",
      "|   |   |   |   |   |--- StoreID <= 4.50\n",
      "|   |   |   |   |   |   |--- class: CH\n",
      "|   |   |   |   |   |--- StoreID >  4.50\n",
      "|   |   |   |   |   |   |--- class: MM\n",
      "|   |   |   |   |--- LoyalCH >  0.77\n",
      "|   |   |   |   |   |--- class: CH\n",
      "|   |   |--- PriceMM >  1.74\n",
      "|   |   |   |--- LoyalCH <= 0.71\n",
      "|   |   |   |   |--- PriceDiff <= 0.09\n",
      "|   |   |   |   |   |--- ListPriceDiff <= 0.23\n",
      "|   |   |   |   |   |   |--- PriceDiff <= -0.25\n",
      "|   |   |   |   |   |   |   |--- WeekofPurchase <= 272.50\n",
      "|   |   |   |   |   |   |   |   |--- class: CH\n",
      "|   |   |   |   |   |   |   |--- WeekofPurchase >  272.50\n",
      "|   |   |   |   |   |   |   |   |--- class: MM\n",
      "|   |   |   |   |   |   |--- PriceDiff >  -0.25\n",
      "|   |   |   |   |   |   |   |--- LoyalCH <= 0.63\n",
      "|   |   |   |   |   |   |   |   |--- StoreID <= 5.50\n",
      "|   |   |   |   |   |   |   |   |   |--- class: MM\n",
      "|   |   |   |   |   |   |   |   |--- StoreID >  5.50\n",
      "|   |   |   |   |   |   |   |   |   |--- LoyalCH <= 0.56\n",
      "|   |   |   |   |   |   |   |   |   |   |--- class: MM\n",
      "|   |   |   |   |   |   |   |   |   |--- LoyalCH >  0.56\n",
      "|   |   |   |   |   |   |   |   |   |   |--- SalePriceMM <= 2.01\n",
      "|   |   |   |   |   |   |   |   |   |   |   |--- class: CH\n",
      "|   |   |   |   |   |   |   |   |   |   |--- SalePriceMM >  2.01\n",
      "|   |   |   |   |   |   |   |   |   |   |   |--- class: MM\n",
      "|   |   |   |   |   |   |   |--- LoyalCH >  0.63\n",
      "|   |   |   |   |   |   |   |   |--- PctDiscMM <= 0.12\n",
      "|   |   |   |   |   |   |   |   |   |--- class: CH\n",
      "|   |   |   |   |   |   |   |   |--- PctDiscMM >  0.12\n",
      "|   |   |   |   |   |   |   |   |   |--- LoyalCH <= 0.69\n",
      "|   |   |   |   |   |   |   |   |   |   |--- class: MM\n",
      "|   |   |   |   |   |   |   |   |   |--- LoyalCH >  0.69\n",
      "|   |   |   |   |   |   |   |   |   |   |--- class: CH\n",
      "|   |   |   |   |   |--- ListPriceDiff >  0.23\n",
      "|   |   |   |   |   |   |--- LoyalCH <= 0.66\n",
      "|   |   |   |   |   |   |   |--- class: CH\n",
      "|   |   |   |   |   |   |--- LoyalCH >  0.66\n",
      "|   |   |   |   |   |   |   |--- SalePriceCH <= 1.81\n",
      "|   |   |   |   |   |   |   |   |--- class: MM\n",
      "|   |   |   |   |   |   |   |--- SalePriceCH >  1.81\n",
      "|   |   |   |   |   |   |   |   |--- LoyalCH <= 0.67\n",
      "|   |   |   |   |   |   |   |   |   |--- class: MM\n",
      "|   |   |   |   |   |   |   |   |--- LoyalCH >  0.67\n",
      "|   |   |   |   |   |   |   |   |   |--- WeekofPurchase <= 263.00\n",
      "|   |   |   |   |   |   |   |   |   |   |--- class: CH\n",
      "|   |   |   |   |   |   |   |   |   |--- WeekofPurchase >  263.00\n",
      "|   |   |   |   |   |   |   |   |   |   |--- class: MM\n",
      "|   |   |   |   |--- PriceDiff >  0.09\n",
      "|   |   |   |   |   |--- LoyalCH <= 0.69\n",
      "|   |   |   |   |   |   |--- PriceMM <= 2.26\n",
      "|   |   |   |   |   |   |   |--- PriceMM <= 2.11\n",
      "|   |   |   |   |   |   |   |   |--- ListPriceDiff <= 0.27\n",
      "|   |   |   |   |   |   |   |   |   |--- WeekofPurchase <= 237.50\n",
      "|   |   |   |   |   |   |   |   |   |   |--- StoreID <= 1.50\n",
      "|   |   |   |   |   |   |   |   |   |   |   |--- class: CH\n",
      "|   |   |   |   |   |   |   |   |   |   |--- StoreID >  1.50\n",
      "|   |   |   |   |   |   |   |   |   |   |   |--- class: MM\n",
      "|   |   |   |   |   |   |   |   |   |--- WeekofPurchase >  237.50\n",
      "|   |   |   |   |   |   |   |   |   |   |--- StoreID <= 2.50\n",
      "|   |   |   |   |   |   |   |   |   |   |   |--- class: CH\n",
      "|   |   |   |   |   |   |   |   |   |   |--- StoreID >  2.50\n",
      "|   |   |   |   |   |   |   |   |   |   |   |--- truncated branch of depth 4\n",
      "|   |   |   |   |   |   |   |   |--- ListPriceDiff >  0.27\n",
      "|   |   |   |   |   |   |   |   |   |--- LoyalCH <= 0.68\n",
      "|   |   |   |   |   |   |   |   |   |   |--- class: CH\n",
      "|   |   |   |   |   |   |   |   |   |--- LoyalCH >  0.68\n",
      "|   |   |   |   |   |   |   |   |   |   |--- WeekofPurchase <= 230.50\n",
      "|   |   |   |   |   |   |   |   |   |   |   |--- class: CH\n",
      "|   |   |   |   |   |   |   |   |   |   |--- WeekofPurchase >  230.50\n",
      "|   |   |   |   |   |   |   |   |   |   |   |--- class: MM\n",
      "|   |   |   |   |   |   |   |--- PriceMM >  2.11\n",
      "|   |   |   |   |   |   |   |   |--- LoyalCH <= 0.54\n",
      "|   |   |   |   |   |   |   |   |   |--- STORE <= 1.00\n",
      "|   |   |   |   |   |   |   |   |   |   |--- class: CH\n",
      "|   |   |   |   |   |   |   |   |   |--- STORE >  1.00\n",
      "|   |   |   |   |   |   |   |   |   |   |--- class: MM\n",
      "|   |   |   |   |   |   |   |   |--- LoyalCH >  0.54\n",
      "|   |   |   |   |   |   |   |   |   |--- class: CH\n",
      "|   |   |   |   |   |   |--- PriceMM >  2.26\n",
      "|   |   |   |   |   |   |   |--- WeekofPurchase <= 255.50\n",
      "|   |   |   |   |   |   |   |   |--- LoyalCH <= 0.64\n",
      "|   |   |   |   |   |   |   |   |   |--- class: MM\n",
      "|   |   |   |   |   |   |   |   |--- LoyalCH >  0.64\n",
      "|   |   |   |   |   |   |   |   |   |--- LoyalCH <= 0.68\n",
      "|   |   |   |   |   |   |   |   |   |   |--- class: CH\n",
      "|   |   |   |   |   |   |   |   |   |--- LoyalCH >  0.68\n",
      "|   |   |   |   |   |   |   |   |   |   |--- class: MM\n",
      "|   |   |   |   |   |   |   |--- WeekofPurchase >  255.50\n",
      "|   |   |   |   |   |   |   |   |--- class: CH\n",
      "|   |   |   |   |   |--- LoyalCH >  0.69\n",
      "|   |   |   |   |   |   |--- class: MM\n",
      "|   |   |   |--- LoyalCH >  0.71\n",
      "|   |   |   |   |--- WeekofPurchase <= 257.50\n",
      "|   |   |   |   |   |--- WeekofPurchase <= 237.50\n",
      "|   |   |   |   |   |   |--- class: CH\n",
      "|   |   |   |   |   |--- WeekofPurchase >  237.50\n",
      "|   |   |   |   |   |   |--- LoyalCH <= 0.92\n",
      "|   |   |   |   |   |   |   |--- SpecialCH <= 0.50\n",
      "|   |   |   |   |   |   |   |   |--- LoyalCH <= 0.80\n",
      "|   |   |   |   |   |   |   |   |   |--- StoreID <= 5.50\n",
      "|   |   |   |   |   |   |   |   |   |   |--- LoyalCH <= 0.79\n",
      "|   |   |   |   |   |   |   |   |   |   |   |--- class: CH\n",
      "|   |   |   |   |   |   |   |   |   |   |--- LoyalCH >  0.79\n",
      "|   |   |   |   |   |   |   |   |   |   |   |--- truncated branch of depth 2\n",
      "|   |   |   |   |   |   |   |   |   |--- StoreID >  5.50\n",
      "|   |   |   |   |   |   |   |   |   |   |--- LoyalCH <= 0.76\n",
      "|   |   |   |   |   |   |   |   |   |   |   |--- truncated branch of depth 2\n",
      "|   |   |   |   |   |   |   |   |   |   |--- LoyalCH >  0.76\n",
      "|   |   |   |   |   |   |   |   |   |   |   |--- class: CH\n",
      "|   |   |   |   |   |   |   |   |--- LoyalCH >  0.80\n",
      "|   |   |   |   |   |   |   |   |   |--- class: CH\n",
      "|   |   |   |   |   |   |   |--- SpecialCH >  0.50\n",
      "|   |   |   |   |   |   |   |   |--- class: MM\n",
      "|   |   |   |   |   |   |--- LoyalCH >  0.92\n",
      "|   |   |   |   |   |   |   |--- LoyalCH <= 0.96\n",
      "|   |   |   |   |   |   |   |   |--- StoreID <= 2.50\n",
      "|   |   |   |   |   |   |   |   |   |--- PriceCH <= 1.81\n",
      "|   |   |   |   |   |   |   |   |   |   |--- class: MM\n",
      "|   |   |   |   |   |   |   |   |   |--- PriceCH >  1.81\n",
      "|   |   |   |   |   |   |   |   |   |   |--- class: CH\n",
      "|   |   |   |   |   |   |   |   |--- StoreID >  2.50\n",
      "|   |   |   |   |   |   |   |   |   |--- class: MM\n",
      "|   |   |   |   |   |   |   |--- LoyalCH >  0.96\n",
      "|   |   |   |   |   |   |   |   |--- class: CH\n",
      "|   |   |   |   |--- WeekofPurchase >  257.50\n",
      "|   |   |   |   |   |--- StoreID <= 2.50\n",
      "|   |   |   |   |   |   |--- LoyalCH <= 0.98\n",
      "|   |   |   |   |   |   |   |--- ListPriceDiff <= 0.13\n",
      "|   |   |   |   |   |   |   |   |--- PriceDiff <= -0.02\n",
      "|   |   |   |   |   |   |   |   |   |--- class: MM\n",
      "|   |   |   |   |   |   |   |   |--- PriceDiff >  -0.02\n",
      "|   |   |   |   |   |   |   |   |   |--- class: CH\n",
      "|   |   |   |   |   |   |   |--- ListPriceDiff >  0.13\n",
      "|   |   |   |   |   |   |   |   |--- class: CH\n",
      "|   |   |   |   |   |   |--- LoyalCH >  0.98\n",
      "|   |   |   |   |   |   |   |--- LoyalCH <= 0.99\n",
      "|   |   |   |   |   |   |   |   |--- class: MM\n",
      "|   |   |   |   |   |   |   |--- LoyalCH >  0.99\n",
      "|   |   |   |   |   |   |   |   |--- class: CH\n",
      "|   |   |   |   |   |--- StoreID >  2.50\n",
      "|   |   |   |   |   |   |--- STORE <= 3.50\n",
      "|   |   |   |   |   |   |   |--- class: CH\n",
      "|   |   |   |   |   |   |--- STORE >  3.50\n",
      "|   |   |   |   |   |   |   |--- WeekofPurchase <= 265.50\n",
      "|   |   |   |   |   |   |   |   |--- WeekofPurchase <= 264.50\n",
      "|   |   |   |   |   |   |   |   |   |--- class: CH\n",
      "|   |   |   |   |   |   |   |   |--- WeekofPurchase >  264.50\n",
      "|   |   |   |   |   |   |   |   |   |--- LoyalCH <= 0.97\n",
      "|   |   |   |   |   |   |   |   |   |   |--- class: MM\n",
      "|   |   |   |   |   |   |   |   |   |--- LoyalCH >  0.97\n",
      "|   |   |   |   |   |   |   |   |   |   |--- class: CH\n",
      "|   |   |   |   |   |   |   |--- WeekofPurchase >  265.50\n",
      "|   |   |   |   |   |   |   |   |--- class: CH\n",
      "\n"
     ]
    }
   ],
   "source": [
    "from sklearn.tree import export_text\n",
    "\n",
    "tree_summary = export_text(model, feature_names=list(X_train.columns))\n",
    "print(tree_summary)"
   ]
  },
  {
   "cell_type": "markdown",
   "id": "0f3434b5",
   "metadata": {},
   "source": [
    "(e) Predict the response on the test data, and produce a confusion\n",
    "matrix comparing the test labels to the predicted test labels.\n",
    "What is the test error rate?\n",
    "\n",
    "Your code:"
   ]
  },
  {
   "cell_type": "code",
   "execution_count": 45,
   "id": "eb630622",
   "metadata": {
    "Rmd_chunk_options": "echo=TRUE",
    "kernel": "Python3",
    "tags": [
     "report_cell"
    ]
   },
   "outputs": [
    {
     "name": "stdout",
     "output_type": "stream",
     "text": [
      "0.28148148148148144\n"
     ]
    }
   ],
   "source": [
    "from sklearn.metrics import confusion_matrix\n",
    "X_test = test_set.drop('Purchase', axis=1)\n",
    "X_test = X_test.drop('Store7', axis=1)\n",
    "y_test = test_set['Purchase']\n",
    "\n",
    "predictions = model.predict(X_test)\n",
    "\n",
    "\n",
    "conf_matrix = confusion_matrix(y_test, predictions)\n",
    "test_error_rate = 1 - (np.trace(conf_matrix) / np.sum(conf_matrix))\n",
    "print(test_error_rate)"
   ]
  },
  {
   "cell_type": "markdown",
   "id": "66ec0679",
   "metadata": {},
   "source": [
    "Your answer:\n",
    "\n",
    "~~~\n",
    "Please write your answer in full sentences.\n",
    "\n",
    "\n",
    "~~~\n",
    "\n",
    "(f) Use cross-validation on the training set in order to determine\n",
    "the optimal tree size.\n",
    "Your code:"
   ]
  },
  {
   "cell_type": "code",
   "execution_count": 47,
   "id": "37359959",
   "metadata": {
    "Rmd_chunk_options": "echo=TRUE",
    "kernel": "Python3",
    "tags": [
     "report_cell"
    ]
   },
   "outputs": [
    {
     "name": "stdout",
     "output_type": "stream",
     "text": [
      "3\n"
     ]
    }
   ],
   "source": [
    "from sklearn.model_selection import cross_val_score\n",
    "\n",
    "cv_scores = []\n",
    "for depth in range(1, 21):\n",
    "    model = DecisionTreeClassifier(max_depth=depth, random_state=42)\n",
    "    scores = cross_val_score(model, X_train, y_train, cv=10, scoring='accuracy')\n",
    "    cv_scores.append((depth, np.mean(scores)))\n",
    "\n",
    "optimal_tree_size = sorted(cv_scores, key=lambda x: x[1], reverse=True)[0][0]\n",
    "\n",
    "print(optimal_tree_size)"
   ]
  },
  {
   "cell_type": "markdown",
   "id": "3d54c5e8",
   "metadata": {},
   "source": [
    "Your answer:\n",
    "\n",
    "~~~\n",
    "Please write your answer in full sentences.\n",
    "\n",
    "\n",
    "~~~\n",
    "\n",
    "(g) Produce a plot with tree size on the x-axis and cross-validated\n",
    "classification error rate on the y-axis.\n",
    "Your code:"
   ]
  },
  {
   "cell_type": "code",
   "execution_count": 48,
   "id": "2a4aa076",
   "metadata": {
    "Rmd_chunk_options": "echo=TRUE",
    "kernel": "Python3",
    "tags": [
     "report_cell"
    ]
   },
   "outputs": [
    {
     "data": {
      "image/png": "[encoded data removed]",
      "text/plain": [
       "<Figure size 640x480 with 1 Axes>"
      ]
     },
     "metadata": {},
     "output_type": "display_data"
    }
   ],
   "source": [
    "plt.plot([x[0] for x in cv_scores], [1-x[1] for x in cv_scores], marker='o')\n",
    "plt.xlabel('Tree Size')\n",
    "plt.ylabel('CV Error Rate')\n",
    "plt.title('Tree Size vs. CV Error Rate')\n",
    "plt.show()"
   ]
  },
  {
   "cell_type": "markdown",
   "id": "2dd5b8bf",
   "metadata": {},
   "source": [
    "Your answer:\n",
    "\n",
    "~~~\n",
    "Please write your answer in full sentences.\n",
    "\n",
    "\n",
    "~~~\n",
    "\n",
    "(h) Which tree size corresponds to the lowest cross-validated classification error rate?\n",
    "\n",
    "Your code:"
   ]
  },
  {
   "cell_type": "code",
   "execution_count": null,
   "id": "5e57e183",
   "metadata": {
    "Rmd_chunk_options": "echo=TRUE",
    "kernel": "Python3",
    "tags": [
     "report_cell"
    ]
   },
   "outputs": [],
   "source": [
    "#\n",
    "#"
   ]
  },
  {
   "cell_type": "markdown",
   "id": "c1c0bbc5",
   "metadata": {},
   "source": [
    "Your answer:\n",
    "\n",
    "~~~\n",
    "Please write your answer in full sentences.\n",
    "\n",
    "\n",
    "~~~\n",
    "\n",
    "(i) Produce a pruned tree corresponding to the optimal tree size obtained using cross-validation. If cross-validation does not lead\n",
    "to selection of a pruned tree, then create a pruned tree with five terminal nodes.\n",
    "\n",
    "Your code:"
   ]
  },
  {
   "cell_type": "code",
   "execution_count": null,
   "id": "27432083",
   "metadata": {
    "Rmd_chunk_options": "echo=TRUE",
    "kernel": "Python3",
    "tags": [
     "report_cell"
    ]
   },
   "outputs": [],
   "source": [
    "#\n",
    "#"
   ]
  },
  {
   "cell_type": "markdown",
   "id": "f9298adc",
   "metadata": {},
   "source": [
    "Your answer:\n",
    "\n",
    "~~~\n",
    "Please write your answer in full sentences.\n",
    "\n",
    "\n",
    "~~~\n",
    "\n",
    "(j) Compare the training error rates between the pruned and unpruned trees. Which is higher?\n",
    "\n",
    "Your code:"
   ]
  },
  {
   "cell_type": "code",
   "execution_count": null,
   "id": "5464079b",
   "metadata": {
    "Rmd_chunk_options": "echo=TRUE",
    "kernel": "Python3",
    "tags": [
     "report_cell"
    ]
   },
   "outputs": [],
   "source": [
    "#\n",
    "#"
   ]
  },
  {
   "cell_type": "markdown",
   "id": "a1071b7d",
   "metadata": {},
   "source": [
    "Your answer:\n",
    "\n",
    "~~~\n",
    "Please write your answer in full sentences.\n",
    "\n",
    "\n",
    "~~~\n",
    "\n",
    "\n",
    "(k) Compare the test error rates between the pruned and unpruned trees. Which is higher?\n",
    "\n",
    "Your code:"
   ]
  },
  {
   "cell_type": "code",
   "execution_count": null,
   "id": "306fe3fc",
   "metadata": {
    "Rmd_chunk_options": "echo=TRUE",
    "kernel": "Python3",
    "tags": [
     "report_cell"
    ]
   },
   "outputs": [],
   "source": [
    "#\n",
    "#"
   ]
  },
  {
   "cell_type": "markdown",
   "id": "95d77e1f",
   "metadata": {},
   "source": [
    "Your answer:\n",
    "\n",
    "~~~\n",
    "Please write your answer in full sentences.\n",
    "\n",
    "\n",
    "~~~"
   ]
  },
  {
   "cell_type": "markdown",
   "id": "d8f310ba",
   "metadata": {},
   "source": [
    "### Hitters\n",
    "\n",
    "We now use boosting to predict Salary in the Hitters data set."
   ]
  },
  {
   "cell_type": "code",
   "execution_count": null,
   "id": "3c2407bc",
   "metadata": {
    "kernel": "Python3",
    "tags": [
     "report_cell"
    ]
   },
   "outputs": [],
   "source": [
    "Hitters = load_data(\"Hitters\")"
   ]
  },
  {
   "cell_type": "markdown",
   "id": "f5e16093",
   "metadata": {},
   "source": [
    "(a) Remove the observations for whom the salary information is unknown, and then log-transform the salaries.\n",
    "\n",
    "Your code:"
   ]
  },
  {
   "cell_type": "code",
   "execution_count": null,
   "id": "9f3fd328",
   "metadata": {
    "Rmd_chunk_options": "echo=TRUE",
    "kernel": "Python3",
    "tags": [
     "report_cell"
    ]
   },
   "outputs": [],
   "source": [
    "#\n",
    "#"
   ]
  },
  {
   "cell_type": "markdown",
   "id": "19c92289",
   "metadata": {},
   "source": [
    "Your answer:\n",
    "\n",
    "~~~\n",
    "Please write your answer in full sentences.\n",
    "\n",
    "\n",
    "~~~\n",
    "\n",
    "(b) Create a training set consisting of the first 200 observations, and a test set consisting of the remaining observations.\n",
    "\n",
    "Your code:"
   ]
  },
  {
   "cell_type": "code",
   "execution_count": null,
   "id": "69ffe30b",
   "metadata": {
    "Rmd_chunk_options": "echo=TRUE",
    "kernel": "Python3",
    "tags": [
     "report_cell"
    ]
   },
   "outputs": [],
   "source": [
    "#\n",
    "#"
   ]
  },
  {
   "cell_type": "markdown",
   "id": "9a501e56",
   "metadata": {},
   "source": [
    "Your answer:\n",
    "\n",
    "~~~\n",
    "Please write your answer in full sentences.\n",
    "\n",
    "\n",
    "~~~\n",
    "\n",
    "(c) Perform boosting on the training set with 1,000 trees for a range of values of the shrinkage parameter $lambda$. Produce a plot with different shrinkage values on the x-axis and the corresponding\n",
    "training set MSE on the y-axis.\n",
    "\n",
    "Your code:"
   ]
  },
  {
   "cell_type": "code",
   "execution_count": null,
   "id": "81d0ee7f",
   "metadata": {
    "Rmd_chunk_options": "echo=TRUE",
    "kernel": "Python3",
    "tags": [
     "report_cell"
    ]
   },
   "outputs": [],
   "source": [
    "#\n",
    "#"
   ]
  },
  {
   "cell_type": "markdown",
   "id": "f4d190d6",
   "metadata": {},
   "source": [
    "Your answer:\n",
    "\n",
    "~~~\n",
    "Please write your answer in full sentences.\n",
    "\n",
    "\n",
    "~~~\n",
    "\n",
    "(d) Produce a plot with different shrinkage values on the x-axis and the corresponding test set MSE on the y-axis.\n",
    "\n",
    "Your code:"
   ]
  },
  {
   "cell_type": "code",
   "execution_count": null,
   "id": "2c414155",
   "metadata": {
    "Rmd_chunk_options": "echo=TRUE",
    "kernel": "Python3",
    "tags": [
     "report_cell"
    ]
   },
   "outputs": [],
   "source": [
    "#\n",
    "#"
   ]
  },
  {
   "cell_type": "markdown",
   "id": "368a3863",
   "metadata": {},
   "source": [
    "Your answer:\n",
    "\n",
    "~~~\n",
    "Please write your answer in full sentences.\n",
    "\n",
    "\n",
    "~~~\n",
    "\n",
    "(e) Compare the test MSE of boosting to the test MSE that results from applying two of the regression approaches seen in Chapters 3 and 6.\n",
    "\n",
    "Your code:"
   ]
  },
  {
   "cell_type": "code",
   "execution_count": null,
   "id": "006e882c",
   "metadata": {
    "Rmd_chunk_options": "echo=TRUE",
    "kernel": "Python3",
    "tags": [
     "report_cell"
    ]
   },
   "outputs": [],
   "source": [
    "#\n",
    "#"
   ]
  },
  {
   "cell_type": "markdown",
   "id": "45676878",
   "metadata": {},
   "source": [
    "Your answer:\n",
    "\n",
    "~~~\n",
    "Please write your answer in full sentences.\n",
    "\n",
    "\n",
    "~~~\n",
    "\n",
    "(f) Which variables appear to be the most important predictors in the boosted model?\n",
    "\n",
    "Your code:"
   ]
  },
  {
   "cell_type": "code",
   "execution_count": null,
   "id": "e8fce9cc",
   "metadata": {
    "Rmd_chunk_options": "echo=TRUE",
    "kernel": "Python3",
    "tags": [
     "report_cell"
    ]
   },
   "outputs": [],
   "source": [
    "#\n",
    "#"
   ]
  },
  {
   "cell_type": "markdown",
   "id": "04dcbe94",
   "metadata": {},
   "source": [
    "Your answer:\n",
    "\n",
    "~~~\n",
    "Please write your answer in full sentences.\n",
    "\n",
    "\n",
    "~~~\n",
    "\n",
    "(g) Now apply bagging to the training set. What is the test set MSE for this approach?\n",
    "\n",
    "Your code:"
   ]
  },
  {
   "cell_type": "code",
   "execution_count": null,
   "id": "c73b6e57",
   "metadata": {
    "Rmd_chunk_options": "echo=TRUE",
    "kernel": "Python3",
    "tags": [
     "report_cell"
    ]
   },
   "outputs": [],
   "source": [
    "#\n",
    "#"
   ]
  },
  {
   "cell_type": "markdown",
   "id": "6cfe755e",
   "metadata": {},
   "source": [
    "Your answer:\n",
    "\n",
    "~~~\n",
    "Please write your answer in full sentences.\n",
    "\n",
    "\n",
    "~~~"
   ]
  },
  {
   "cell_type": "markdown",
   "id": "9f9e4279",
   "metadata": {},
   "source": [
    "### Caravan\n",
    "\n",
    "This question uses the `Caravan` data set."
   ]
  },
  {
   "cell_type": "code",
   "execution_count": null,
   "id": "42ff0a94",
   "metadata": {
    "kernel": "Python3",
    "tags": [
     "report_cell"
    ]
   },
   "outputs": [],
   "source": [
    "Caravan = load_data(\"Caravan\")"
   ]
  },
  {
   "cell_type": "markdown",
   "id": "6e5ff16a",
   "metadata": {},
   "source": [
    "(a) Create a training set consisting of the first 1,000 observations, and a test set consisting of the remaining observations.\n",
    "\n",
    "Your code:"
   ]
  },
  {
   "cell_type": "code",
   "execution_count": null,
   "id": "a63adff6",
   "metadata": {
    "Rmd_chunk_options": "echo=TRUE",
    "kernel": "Python3",
    "tags": [
     "report_cell"
    ]
   },
   "outputs": [],
   "source": [
    "#\n",
    "#"
   ]
  },
  {
   "cell_type": "markdown",
   "id": "50a4dba8",
   "metadata": {},
   "source": [
    "(b) Fit a boosting model to the training set with `Purchase` as the response and the other variables as predictors. Use 1,000 trees, and a shrinkage value of 0.01. Which predictors appear to be the most important?\n",
    "\n",
    "Your code:"
   ]
  },
  {
   "cell_type": "code",
   "execution_count": null,
   "id": "22a7be6b",
   "metadata": {
    "Rmd_chunk_options": "echo=TRUE",
    "kernel": "Python3",
    "tags": [
     "report_cell"
    ]
   },
   "outputs": [],
   "source": [
    "#\n",
    "#"
   ]
  },
  {
   "cell_type": "markdown",
   "id": "60610372",
   "metadata": {},
   "source": [
    "Your answer:\n",
    "\n",
    "~~~\n",
    "Please write your answer in full sentences.\n",
    "\n",
    "\n",
    "~~~\n",
    "\n",
    "\n",
    "(c) Use the boosting model to predict the response on the test data. Predict that a person will make a purchase if the estimated probability of purchase is greater than 20 %. Form a confusion matrix. What fraction of the people predicted to make a purchase do in fact make one? How does this compare with the results obtained from applying KNN or logistic regression to this data set?\n",
    "\n",
    "Your code:"
   ]
  },
  {
   "cell_type": "code",
   "execution_count": null,
   "id": "0dc8daad",
   "metadata": {
    "Rmd_chunk_options": "echo=TRUE",
    "kernel": "Python3",
    "tags": [
     "report_cell"
    ]
   },
   "outputs": [],
   "source": [
    "#\n",
    "#"
   ]
  },
  {
   "cell_type": "markdown",
   "id": "98f6f5d6",
   "metadata": {},
   "source": [
    "Your answer:\n",
    "\n",
    "~~~\n",
    "Please write your answer in full sentences.\n",
    "\n",
    "\n",
    "~~~"
   ]
  },
  {
   "cell_type": "markdown",
   "id": "adf43ae7",
   "metadata": {},
   "source": [
    "## Additional Material"
   ]
  },
  {
   "cell_type": "markdown",
   "id": "5625c9a0",
   "metadata": {},
   "source": [
    "In this section we will look at other popular tree based methods that are readily available.\n",
    "For classification we will use the [iris dataset](https://scikit-learn.org/stable/auto_examples/datasets/plot_iris_dataset.html) ."
   ]
  },
  {
   "cell_type": "code",
   "execution_count": null,
   "id": "9f7364b1",
   "metadata": {
    "Rmd_chunk_options": "fig.width=12,fig.height=10",
    "kernel": "Python3",
    "tags": [
     "report_cell"
    ]
   },
   "outputs": [],
   "source": [
    "from sklearn import datasets\n",
    "from sklearn.model_selection import train_test_split\n",
    "\n",
    "iris = datasets.load_iris()\n",
    "iris_X=pd.DataFrame(iris.data,columns=iris.feature_names)\n",
    "iris_y=pd.DataFrame(iris.target,columns=['Class'])\n",
    "\n",
    "# split the data\n",
    "X_train0, X_test, y_train0, y_test = train_test_split(iris_X, iris_y, test_size=0.33, random_state=42)\n",
    "trainData = pd.concat([X_train0, y_train0], axis=1)\n",
    "testData  = pd.concat([X_test, y_test], axis=1)"
   ]
  },
  {
   "cell_type": "markdown",
   "id": "10a138e7",
   "metadata": {},
   "source": [
    "### CART graph\n",
    "\n",
    "https://github.com/Sidon/Sidon.github.io/blob/master/_posts/dtree-w1.ipynb"
   ]
  },
  {
   "cell_type": "code",
   "execution_count": null,
   "id": "e670e01d",
   "metadata": {
    "kernel": "Python3",
    "tags": [
     "report_cell"
    ]
   },
   "outputs": [],
   "source": [
    "import matplotlib.pyplot as plt\n",
    "import itertools\n",
    "def plot_confusion_matrix(cm, classes,\n",
    "                          normalize=False,\n",
    "                          title='Confusion matrix',\n",
    "                          cmap=plt.cm.Blues):\n",
    "    \"\"\"\n",
    "    This function prints and plots the confusion matrix.\n",
    "    Normalization can be applied by setting `normalize=True`.\n",
    "    \"\"\"\n",
    "    plt.imshow(cm, interpolation='nearest', cmap=cmap)\n",
    "    plt.title(title)\n",
    "    plt.colorbar()\n",
    "    tick_marks = np.arange(len(classes))\n",
    "    plt.xticks(tick_marks, classes, rotation=45)\n",
    "    plt.yticks(tick_marks, classes)\n",
    "    if normalize:\n",
    "        cm = cm.astype('float') / cm.sum(axis=1)[:, np.newaxis]\n",
    "        print(\"Normalized confusion matrix\")\n",
    "    else:\n",
    "        print('Confusion matrix, without normalization')\n",
    "\n",
    "    print(cm)\n",
    "    thresh = cm.max() / 2.\n",
    "    for i, j in itertools.product(range(cm.shape[0]), range(cm.shape[1])):\n",
    "        plt.text(j, i, cm[i, j],\n",
    "                 horizontalalignment=\"center\",\n",
    "                 color=\"white\" if cm[i, j] > thresh else \"black\")\n",
    "    plt.tight_layout()\n",
    "    plt.ylabel('True')\n",
    "    plt.xlabel('Predicted')"
   ]
  },
  {
   "cell_type": "code",
   "execution_count": null,
   "id": "8b5ea923",
   "metadata": {
    "Rmd_chunk_options": "fig.width=12,fig.height=10",
    "kernel": "Python3",
    "tags": [
     "report_cell"
    ]
   },
   "outputs": [],
   "source": [
    "# Fit CART  Model\n",
    "from sklearn.tree import DecisionTreeClassifier\n",
    "from sklearn import tree\n",
    "from io import StringIO\n",
    "import pydotplus\n",
    "import sklearn\n",
    "import sklearn.metrics\n",
    "from IPython.display import Image\n",
    "out = StringIO()\n",
    "clf = DecisionTreeClassifier()\n",
    "clf = clf.fit(X_train0,y_train0)\n",
    "\n",
    "# you will need to install graphviz\n",
    "tree.export_graphviz(clf, out_file=out, feature_names=iris.feature_names,class_names=['0','1','2'],\n",
    "                     filled=True, rounded=True, special_characters=True)\n",
    "\n",
    "graph=pydotplus.graph_from_dot_data(out.getvalue())\n",
    "Image(graph.create_png())\n",
    "\n",
    "predictions=clf.predict(X_test)\n",
    "confusion_matrix = sklearn.metrics.confusion_matrix(y_test,predictions)\n",
    "plot_confusion_matrix(confusion_matrix,['Setosa','Versicolour','Virginica'])"
   ]
  },
  {
   "cell_type": "markdown",
   "id": "603c86f4",
   "metadata": {},
   "source": [
    "### XGBoost\n",
    "\n",
    "XGBoost became popular due to its success in Kaggle competitions.  It's essentially a gradient boosting but implemented to perform better out of the box.  Some of the nice features include:\n",
    "\n",
    "- Default regularization\n",
    "- Tree growing and pruning scheme allows for multiple cuts\n",
    "- Computational efficiency by parallelization\n",
    "- A couple of default choices to make it easier to use\n",
    "- Handles missing data\n",
    "\n",
    "However, if you want to go deeper, there are some challenges/concerns.\n",
    "\n",
    "- Hyperparameter tuning is hard\n",
    "- Missing data imputation scheme is concerning\n",
    "- Cannot handle categorical variables\n",
    "\n",
    "Here is it used for the iris data."
   ]
  },
  {
   "cell_type": "code",
   "execution_count": null,
   "id": "3db5080f",
   "metadata": {
    "kernel": "Python3",
    "tags": [
     "report_cell"
    ]
   },
   "outputs": [],
   "source": [
    "import xgboost as xgb\n",
    "\n",
    "param = {'max_depth': 2, 'eta': 1, 'objective': 'multi:softmax'}\n",
    "param['nthread'] = 4\n",
    "param['eval_metric'] = 'auc'\n",
    "param['num_class'] = 3\n",
    "\n",
    "num_round = 10\n",
    "\n",
    "dtrain = xgb.DMatrix(X_train0, label=y_train0)\n",
    "dtest = xgb.DMatrix(X_test, label=y_test)\n",
    "evallist = [(dtrain, 'train'), (dtest, 'eval')]\n",
    "bst = xgb.train(param, dtrain, num_round, evallist)\n",
    "ypred = bst.predict(dtest)"
   ]
  },
  {
   "cell_type": "markdown",
   "id": "8b752540",
   "metadata": {},
   "source": [
    "What gets unwieldy is when you start to tune the parameters.\n",
    "Here is the list of parameters used.  Not all of them need tuning, but I hope you understand.\n",
    "\n",
    "- General Parameters that define the overall functionality of XGBoost.\n",
    "  - booster [default=gbtree]: type of model\n",
    "  - silent [default=0]: display log?\n",
    "  - nthread [default to the maximum number of threads available if not set]: number of cores\n",
    "- Learning Task Parameters define the optimization objective and the metric to be calculated at each step.\n",
    "  - objective [default=reg:linear] the loss function to be minimized.\n",
    "  - eval_metric [ default according to objective ] The metric for validation data.\n",
    "  - seed [default=0] The random number seed.\n",
    "- Booster Parameters\n",
    "  - eta [default=0.3]. Analogous to the learning rate in GBM\n",
    "  - min_child_weight [default=1] is the minimum sum of weights of all observations required in a child.\n",
    "  - max_depth [default=6] The maximum depth of a tree, same as GBM.\n",
    "  - max_leaf_nodes  The maximum number of terminal nodes or leaves in a tree.\n",
    "  - gamma [default=0] is the minimum loss reduction required to make a split.\n",
    "  - max_delta_step [default=0]  If it is set to a positive value makes the update step more conservative.\n",
    "  - subsample [default=1] the fraction of observations randomly sampled for each tree.\n",
    "  - colsample_bytree [default=1] is the fraction of columns randomly sampled for each tree.\n",
    "  - colsample_bylevel [default=1] the subsample ratio of columns for each split, in each level.\n",
    "  - lambda [default=1]  L2 regularization term on weights (analogous to Ridge regression)\n",
    "  - alpha [default=0] L1 regularization term on weight (analogous to Lasso regression)\n",
    "  - scale_pos_weight [default=1] >0 for high class imbalance as it helps in faster convergence.\n",
    "\n",
    "Because of this, there is an automatic versiong of xgboost exists. But I was not able to install it on my machine."
   ]
  },
  {
   "cell_type": "code",
   "execution_count": null,
   "id": "93bab0c3",
   "metadata": {
    "Rmd_chunk_options": "eval=FALSE",
    "kernel": "Python3",
    "tags": [
     "report_cell"
    ]
   },
   "outputs": [],
   "source": [
    "#from autoxgb import AutoXGB"
   ]
  },
  {
   "cell_type": "markdown",
   "id": "f552a668",
   "metadata": {},
   "source": [
    "### catboost\n",
    "\n",
    "Catboost is another popular boosting method that in my view popular due to well thought out implementation.\n",
    "The three features that distingishes itself from the other similar models are\n",
    "\n",
    "- Symmetric tree\n",
    "- Ordered Boosting\n",
    "- Categorical Feature Engineering\n",
    "\n",
    "\n",
    " https://catboost.ai/en/docs/concepts/r-usages-examples"
   ]
  },
  {
   "cell_type": "code",
   "execution_count": null,
   "id": "081fd8d5",
   "metadata": {
    "Rmd_chunk_options": "eval=FALSE",
    "kernel": "Python3",
    "tags": [
     "report_cell"
    ]
   },
   "outputs": [],
   "source": [
    "# library(catboost)\n",
    "# # load data\n",
    "# set.seed(1)\n",
    "# idx=sample(1:nrow(iris),nrow(iris)*.7)\n",
    "# train=iris[idx,]\n",
    "# test=iris[-idx,]\n",
    "# fit_control <- caret::trainControl(\n",
    "#   method = \"cv\",\n",
    "#   number = 3,\n",
    "#   search = \"random\",\n",
    "#   classProbs = TRUE\n",
    "# )\n",
    "# # set grid options\n",
    "# grid <- expand.grid(\n",
    "#   depth = c(4, 6, 8),\n",
    "#   learning_rate = 0.1,\n",
    "#   l2_leaf_reg = 0.1,\n",
    "#   rsm = 0.95,\n",
    "#   border_count = 64,\n",
    "#   iterations = 10\n",
    "# )\n",
    "# model <- caret::train(\n",
    "#   x = train[,-5],\n",
    "#   y = train[,5],\n",
    "#   method = catboost.caret,\n",
    "#   metric = \"Accuracy\",\n",
    "#   maximize = TRUE,\n",
    "#   preProc = NULL,\n",
    "#   tuneGrid = grid,\n",
    "#   tuneLength = 30,\n",
    "#   trControl = fit_control\n",
    "# )\n",
    "# table(test$Species,predict(model,test))"
   ]
  },
  {
   "cell_type": "markdown",
   "id": "02ebb07f",
   "metadata": {},
   "source": [
    "### Ensemble model\n",
    "\n",
    "Bagging, Random Forest, and Boosting are examples of ensemble models.\n",
    "The idea is to combine models to get a better result than any individual model can achieve.\n",
    "So far, we’ve combined the same models, but that need not be the case.\n",
    "One way to combine the results is to just average the outcomes from different models.\n",
    "But one need not trust the results from all models equally.\n",
    "An alternative way is to use the predictions as input into a regression model to create weights representing the level of trust in the model.\n",
    "\n",
    "Stacking is easy to implement but even easier if you use caret.\n",
    "For example, if you want to do 10 fold Repeated CV to fit CART, knn, logistic regression,Gaussian Naive Bayes and svc, then combine the results.\n",
    "\n",
    "You can find more details [here](https://machinelearningmastery.com/stacking-ensemble-machine-learning-with-python/)."
   ]
  },
  {
   "cell_type": "code",
   "execution_count": null,
   "id": "a0d28319",
   "metadata": {
    "kernel": "Python3",
    "tags": [
     "report_cell"
    ]
   },
   "outputs": [],
   "source": [
    "# pip install datapackage\n",
    "from datapackage import Package\n",
    "from sklearn.model_selection import RepeatedKFold\n",
    "from sklearn.linear_model import LogisticRegression\n",
    "from sklearn.neighbors import KNeighborsClassifier\n",
    "from sklearn.tree import DecisionTreeClassifier\n",
    "from sklearn.naive_bayes import GaussianNB\n",
    "from sklearn.svm import SVC\n",
    "from sklearn.model_selection import cross_val_score\n",
    "\n",
    "from sklearn.ensemble import StackingClassifier\n",
    "from matplotlib import pyplot\n",
    "\n",
    "package = Package('https://datahub.io/machine-learning/sonar/datapackage.json')\n",
    "resources = package.resources\n",
    "Sonar = pd.read_csv(resources[1].descriptor['path'])\n",
    "\n",
    "Sonar_y=Sonar.loc[:,\"Class\"]\n",
    "Sonar_x=Sonar.drop([\"Class\"], axis=1)\n",
    "\n",
    "level0 = list()\n",
    "level0.append(('lr', LogisticRegression()))\n",
    "level0.append(('knn', KNeighborsClassifier()))\n",
    "level0.append(('cart', DecisionTreeClassifier()))\n",
    "level0.append(('svm', SVC()))\n",
    "level0.append(('bayes', GaussianNB()))\n",
    "# define meta learner model\n",
    "level1 = LogisticRegression()\n",
    "stacking = StackingClassifier(estimators=level0, final_estimator=level1, cv=5)\n",
    "cv = RepeatedKFold(n_splits=10, n_repeats=3)\n",
    "scores = cross_val_score(stacking, Sonar_x, Sonar_y, scoring='accuracy', cv=cv, n_jobs=-1, error_score='raise')"
   ]
  }
 ],
 "metadata": {
  "Rmd_chunk_options": {
   "author": "Masanao Yajima",
   "date": "2023-01-05",
   "output": "html_document",
   "title": "Tree based Ensemble"
  },
  "kernelspec": {
   "display_name": "Python 3 (ipykernel)",
   "language": "python",
   "name": "python3"
  },
  "language_info": {
   "codemirror_mode": {
    "name": "ipython",
    "version": 3
   },
   "file_extension": ".py",
   "mimetype": "text/x-python",
   "name": "python",
   "nbconvert_exporter": "python",
   "pygments_lexer": "ipython3",
   "version": "3.11.4"
  },
  "sos": {
   "kernels": [
    [
     "SoS",
     "sos",
     "",
     ""
    ],
    [
     "R",
     "ir",
     "",
     ""
    ],
    [
     "css",
     "css",
     "",
     ""
    ],
    [
     "Python3",
     "ir",
     "",
     ""
    ]
   ]
  }
 },
 "nbformat": 4,
 "nbformat_minor": 5
}
